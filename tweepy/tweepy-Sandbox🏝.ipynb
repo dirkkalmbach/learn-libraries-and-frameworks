{
 "cells": [
  {
   "cell_type": "markdown",
   "metadata": {},
   "source": [
    "# Python 🐍 Twitter 🦜 Library: `tweepy` "
   ]
  },
  {
   "cell_type": "markdown",
   "metadata": {},
   "source": [
    "## Setup\n",
    ">`pip install tweepy`  \n",
    "- installed on conda environment(s): trading38, DataScience, "
   ]
  },
  {
   "cell_type": "code",
   "execution_count": 1,
   "metadata": {},
   "outputs": [
    {
     "name": "stdout",
     "output_type": "stream",
     "text": [
      "logged into Twitter\n"
     ]
    }
   ],
   "source": [
    "import tweepy\n",
    "import re\n",
    "import time\n",
    "import sys"
   ]
  },
  {
   "cell_type": "code",
   "execution_count": 4,
   "metadata": {},
   "outputs": [
    {
     "name": "stdout",
     "output_type": "stream",
     "text": [
      "logged into Twitter\n"
     ]
    }
   ],
   "source": [
    "# CONNECT\n",
    "\n",
    "# import credentials from local file\n",
    "sys.path.append(\"/Users/dirkkalmbach/.mycredentials\")\n",
    "import config\n",
    "api_key = config.tweepy_api_key\n",
    "secret_key = config.tweepy_api_secret_key\n",
    "token = config.tweepy_access_token\n",
    "secret = config.tweepy_access_secret\n",
    "\n",
    "# connect to twitter\n",
    "auth = tweepy.OAuthHandler(api_key, secret_key)\n",
    "auth.set_access_token(token, secret)\n",
    "api = tweepy.API(auth)\n",
    "print('logged into Twitter')"
   ]
  },
  {
   "cell_type": "code",
   "execution_count": null,
   "metadata": {},
   "outputs": [],
   "source": []
  }
 ],
 "metadata": {
  "kernelspec": {
   "display_name": "Python 3.9.7 ('DataScience')",
   "language": "python",
   "name": "python3"
  },
  "language_info": {
   "codemirror_mode": {
    "name": "ipython",
    "version": 3
   },
   "file_extension": ".py",
   "mimetype": "text/x-python",
   "name": "python",
   "nbconvert_exporter": "python",
   "pygments_lexer": "ipython3",
   "version": "3.9.7"
  },
  "orig_nbformat": 4,
  "vscode": {
   "interpreter": {
    "hash": "986da1f377c5d37d5af33c68f40726ffabb39cb34539ecdbd183416bb24c9d76"
   }
  }
 },
 "nbformat": 4,
 "nbformat_minor": 2
}
