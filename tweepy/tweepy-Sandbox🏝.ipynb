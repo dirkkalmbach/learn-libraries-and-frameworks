{
 "cells": [
  {
   "cell_type": "markdown",
   "metadata": {},
   "source": [
    "# Python 🐍 Twitter 🦜 Library: `tweepy` "
   ]
  },
  {
   "cell_type": "markdown",
   "metadata": {},
   "source": [
    "## Installation 🏗\n",
    ">`pip install tweepy`  \n",
    "- installed on conda environment(s): trading38, DataScience, "
   ]
  },
  {
   "cell_type": "markdown",
   "metadata": {},
   "source": [
    "## Setup 🎬"
   ]
  },
  {
   "cell_type": "code",
   "execution_count": 1,
   "metadata": {},
   "outputs": [
    {
     "name": "stdout",
     "output_type": "stream",
     "text": [
      "logged into Twitter\n"
     ]
    }
   ],
   "source": [
    "# INSTALL LIBRARIES\n",
    "import tweepy\n",
    "import re\n",
    "import time\n",
    "import sys"
   ]
  },
  {
   "cell_type": "code",
   "execution_count": 13,
   "metadata": {},
   "outputs": [
    {
     "name": "stdout",
     "output_type": "stream",
     "text": [
      "logged into Twitter\n"
     ]
    }
   ],
   "source": [
    "# CONNECT\n",
    "\n",
    "# import credentials from local file\n",
    "sys.path.append(\"/Users/dirkkalmbach/.mycredentials\")\n",
    "import config\n",
    "api_key = config.tweepy_api_key\n",
    "secret_key = config.tweepy_api_secret_key\n",
    "token = config.tweepy_access_token\n",
    "secret = config.tweepy_access_secret\n",
    "\n",
    "# connect to twitter\n",
    "auth = tweepy.OAuthHandler(api_key, secret_key)\n",
    "auth.set_access_token(token, secret)\n",
    "api = tweepy.API(auth)\n",
    "print('logged into Twitter')"
   ]
  },
  {
   "cell_type": "markdown",
   "metadata": {},
   "source": [
    "## Reference 📚\n",
    "- tweepy documentation: https://docs.tweepy.org/en/v3.5.0/getting_started.html\n",
    "- Twitter info about their API: https://developer.twitter.com/en/docs/rate-limits"
   ]
  },
  {
   "cell_type": "markdown",
   "metadata": {},
   "source": [
    "# Get User Data\n",
    "- friends = following"
   ]
  },
  {
   "cell_type": "code",
   "execution_count": 18,
   "metadata": {},
   "outputs": [],
   "source": [
    "user = api.get_user(screen_name='@Inclutus')\n",
    "#api.get_user?"
   ]
  },
  {
   "cell_type": "code",
   "execution_count": 39,
   "metadata": {},
   "outputs": [
    {
     "name": "stdout",
     "output_type": "stream",
     "text": [
      "379\n",
      "NKobserver\n",
      "sentdefender\n",
      "ArmeniaMODTeam\n",
      "BarracudaVol1\n",
      "DefMon3\n",
      "tinso_ww\n",
      "aaf_lukas\n",
      "TaiwanNews886\n",
      "Team_Luftwaffe\n",
      "buitengebieden\n",
      "ChrisO_wiki\n",
      "MoNDefense\n",
      "Karabakh_MoD\n",
      "mna_roc\n",
      "IndoPac_Info\n",
      "tshugart3\n",
      "KyleWOrton\n",
      "ArmyRecognition\n",
      "kutschera_u\n",
      "D__Mitch\n"
     ]
    }
   ],
   "source": [
    "# Following (=friends)\n",
    "print(user.friends_count)\n",
    "for friend in user.friends():\n",
    "   print(friend.screen_name)"
   ]
  },
  {
   "cell_type": "markdown",
   "metadata": {},
   "source": [
    ">looks like restricted to only 20 🧐"
   ]
  },
  {
   "cell_type": "code",
   "execution_count": 40,
   "metadata": {},
   "outputs": [
    {
     "name": "stdout",
     "output_type": "stream",
     "text": [
      "809\n",
      "MartinW32875252\n",
      "gaspfand\n",
      "stefan250384\n",
      "DemonikPunkrede\n",
      "flogg89\n",
      "rusitzka\n",
      "SnikeOne76\n",
      "freibdan\n",
      "throwawaysrven\n",
      "ArnKT666\n",
      "Calbrador\n",
      "JetSetStyler\n",
      "kaennie1976\n",
      "t_oste\n",
      "jan__Lope\n",
      "HagisWelt\n",
      "GerhardHegedus\n",
      "chrismitph_\n",
      "RNJesusBenny\n",
      "chrisbeet\n"
     ]
    }
   ],
   "source": [
    "# Followers\n",
    "print(user.followers_count)\n",
    "for follower in user.followers():\n",
    "   print(follower.screen_name)\n"
   ]
  }
 ],
 "metadata": {
  "kernelspec": {
   "display_name": "Python 3.9.7 ('DataScience')",
   "language": "python",
   "name": "python3"
  },
  "language_info": {
   "codemirror_mode": {
    "name": "ipython",
    "version": 3
   },
   "file_extension": ".py",
   "mimetype": "text/x-python",
   "name": "python",
   "nbconvert_exporter": "python",
   "pygments_lexer": "ipython3",
   "version": "3.9.7"
  },
  "orig_nbformat": 4,
  "vscode": {
   "interpreter": {
    "hash": "986da1f377c5d37d5af33c68f40726ffabb39cb34539ecdbd183416bb24c9d76"
   }
  }
 },
 "nbformat": 4,
 "nbformat_minor": 2
}
